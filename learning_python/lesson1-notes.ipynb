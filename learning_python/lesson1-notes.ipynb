{
 "cells": [
  {
   "cell_type": "markdown",
   "metadata": {},
   "source": [
    "# Basic Python"
   ]
  },
  {
   "cell_type": "code",
   "execution_count": 2,
   "metadata": {},
   "outputs": [
    {
     "name": "stdout",
     "output_type": "stream",
     "text": [
      "nornir successfully imported\n"
     ]
    }
   ],
   "source": [
    "import nornir\n",
    "print(\"nornir successfully imported\")"
   ]
  },
  {
   "cell_type": "code",
   "execution_count": 3,
   "metadata": {},
   "outputs": [
    {
     "name": "stdout",
     "output_type": "stream",
     "text": [
      "<class 'str'>\n",
      "whatever\n"
     ]
    }
   ],
   "source": [
    "#!/usr/bin/env python\n",
    "\n",
    "my_str='whatever'\n",
    "print(type(my_str))\n",
    "print(my_str)\n"
   ]
  },
  {
   "cell_type": "code",
   "execution_count": 6,
   "metadata": {},
   "outputs": [
    {
     "data": {
      "text/plain": [
       "['__add__',\n",
       " '__class__',\n",
       " '__contains__',\n",
       " '__delattr__',\n",
       " '__dir__',\n",
       " '__doc__',\n",
       " '__eq__',\n",
       " '__format__',\n",
       " '__ge__',\n",
       " '__getattribute__',\n",
       " '__getitem__',\n",
       " '__getnewargs__',\n",
       " '__gt__',\n",
       " '__hash__',\n",
       " '__init__',\n",
       " '__init_subclass__',\n",
       " '__iter__',\n",
       " '__le__',\n",
       " '__len__',\n",
       " '__lt__',\n",
       " '__mod__',\n",
       " '__mul__',\n",
       " '__ne__',\n",
       " '__new__',\n",
       " '__reduce__',\n",
       " '__reduce_ex__',\n",
       " '__repr__',\n",
       " '__rmod__',\n",
       " '__rmul__',\n",
       " '__setattr__',\n",
       " '__sizeof__',\n",
       " '__str__',\n",
       " '__subclasshook__',\n",
       " 'capitalize',\n",
       " 'casefold',\n",
       " 'center',\n",
       " 'count',\n",
       " 'encode',\n",
       " 'endswith',\n",
       " 'expandtabs',\n",
       " 'find',\n",
       " 'format',\n",
       " 'format_map',\n",
       " 'index',\n",
       " 'isalnum',\n",
       " 'isalpha',\n",
       " 'isascii',\n",
       " 'isdecimal',\n",
       " 'isdigit',\n",
       " 'isidentifier',\n",
       " 'islower',\n",
       " 'isnumeric',\n",
       " 'isprintable',\n",
       " 'isspace',\n",
       " 'istitle',\n",
       " 'isupper',\n",
       " 'join',\n",
       " 'ljust',\n",
       " 'lower',\n",
       " 'lstrip',\n",
       " 'maketrans',\n",
       " 'partition',\n",
       " 'replace',\n",
       " 'rfind',\n",
       " 'rindex',\n",
       " 'rjust',\n",
       " 'rpartition',\n",
       " 'rsplit',\n",
       " 'rstrip',\n",
       " 'split',\n",
       " 'splitlines',\n",
       " 'startswith',\n",
       " 'strip',\n",
       " 'swapcase',\n",
       " 'title',\n",
       " 'translate',\n",
       " 'upper',\n",
       " 'zfill']"
      ]
     },
     "execution_count": 6,
     "metadata": {},
     "output_type": "execute_result"
    }
   ],
   "source": [
    "dir(my_str)\n"
   ]
  },
  {
   "cell_type": "markdown",
   "metadata": {},
   "source": [
    "## Python String Manipulation"
   ]
  },
  {
   "cell_type": "code",
   "execution_count": 7,
   "metadata": {},
   "outputs": [
    {
     "data": {
      "text/plain": [
       "'Whatever'"
      ]
     },
     "execution_count": 7,
     "metadata": {},
     "output_type": "execute_result"
    }
   ],
   "source": [
    "my_str.upper().lower().capitalize()\n"
   ]
  },
  {
   "cell_type": "code",
   "execution_count": 8,
   "metadata": {},
   "outputs": [
    {
     "name": "stdout",
     "output_type": "stream",
     "text": [
      "Help on built-in function split:\n",
      "\n",
      "split(sep=None, maxsplit=-1) method of builtins.str instance\n",
      "    Return a list of the words in the string, using sep as the delimiter string.\n",
      "    \n",
      "    sep\n",
      "      The delimiter according which to split the string.\n",
      "      None (the default value) means split according to any whitespace,\n",
      "      and discard empty strings from the result.\n",
      "    maxsplit\n",
      "      Maximum number of splits to do.\n",
      "      -1 (the default value) means no limit.\n",
      "\n"
     ]
    },
    {
     "data": {
      "text/plain": [
       "True"
      ]
     },
     "execution_count": 8,
     "metadata": {},
     "output_type": "execute_result"
    }
   ],
   "source": [
    "help(my_str.split)\n",
    "\n",
    "ip_addr='192.168.1.1'\n",
    "id(ip_addr)\n",
    "ip_addr2=ip_addr\n",
    "id(ip_addr2)\n",
    "ip_addr2 is ip_addr\n"
   ]
  },
  {
   "cell_type": "code",
   "execution_count": 10,
   "metadata": {},
   "outputs": [
    {
     "name": "stdout",
     "output_type": "stream",
     "text": [
      "Enter an IP address: 1.1.1.1\n",
      "1.1.1.1\n"
     ]
    }
   ],
   "source": [
    "#for python2 compatibiity to python3\n",
    "# Following to be added to python2 to allow python3 compatibility\n",
    "\n",
    "try:\n",
    "    ip_addr=raw_input(\"Enter an IP address: \")\n",
    "except NameError:\n",
    "    ip_addr=input(\"Enter an IP address: \")\n",
    "print(ip_addr)\n"
   ]
  },
  {
   "cell_type": "code",
   "execution_count": 14,
   "metadata": {},
   "outputs": [
    {
     "name": "stdout",
     "output_type": "stream",
     "text": [
      "whatever\n",
      "<class 'str'>\n",
      "whatever\n",
      "<class 'str'>\n",
      "b'whatever'\n",
      "<class 'bytes'>\n"
     ]
    }
   ],
   "source": [
    "# python2 default string type is ASCII, to make it unicode, use u'xxx'\n",
    "# python3 default string type is unicode, to make it ASCII, use b'xxx'\n",
    "# python3 encoding of the unicode is by default UTF-8\n",
    "# for python2, use the following to ensure compatibility\n",
    "# from _future_ import print_function, unicode_literals\n",
    "\n",
    "my_str='whatever'\n",
    "print(my_str)\n",
    "print(type(my_str))\n",
    "\n",
    "my_str=u'whatever'\n",
    "print(my_str)\n",
    "print(type(my_str))\n",
    "\n",
    "my_str=b'whatever'\n",
    "print(my_str)\n",
    "print(type(my_str))\n"
   ]
  },
  {
   "cell_type": "code",
   "execution_count": 1,
   "metadata": {},
   "outputs": [
    {
     "data": {
      "text/plain": [
       "True"
      ]
     },
     "execution_count": 1,
     "metadata": {},
     "output_type": "execute_result"
    }
   ],
   "source": [
    "ip_addr='192.168.1.1'\n",
    "ip_addr == '192.168.1.1'\n"
   ]
  },
  {
   "cell_type": "code",
   "execution_count": 2,
   "metadata": {},
   "outputs": [
    {
     "data": {
      "text/plain": [
       "False"
      ]
     },
     "execution_count": 2,
     "metadata": {},
     "output_type": "execute_result"
    }
   ],
   "source": [
    "ip_addr == '192.168.100.1'"
   ]
  },
  {
   "cell_type": "markdown",
   "metadata": {},
   "source": [
    "### Comparison Operators\n",
    "\n",
    "equals ==\n",
    "\n",
    "not equals !=\n",
    "\n",
    "greater than >, >=\n",
    "\n",
    "less than <, <="
   ]
  },
  {
   "cell_type": "code",
   "execution_count": 3,
   "metadata": {},
   "outputs": [
    {
     "data": {
      "text/plain": [
       "True"
      ]
     },
     "execution_count": 3,
     "metadata": {},
     "output_type": "execute_result"
    }
   ],
   "source": [
    "ip_addr !='1.1.1.1'"
   ]
  },
  {
   "cell_type": "code",
   "execution_count": 5,
   "metadata": {},
   "outputs": [
    {
     "data": {
      "text/plain": [
       "True"
      ]
     },
     "execution_count": 5,
     "metadata": {},
     "output_type": "execute_result"
    }
   ],
   "source": [
    "'192.168' in ip_addr"
   ]
  },
  {
   "cell_type": "code",
   "execution_count": 6,
   "metadata": {},
   "outputs": [
    {
     "data": {
      "text/plain": [
       "True"
      ]
     },
     "execution_count": 6,
     "metadata": {},
     "output_type": "execute_result"
    }
   ],
   "source": [
    "'15.1' not in ip_addr"
   ]
  },
  {
   "cell_type": "code",
   "execution_count": 7,
   "metadata": {},
   "outputs": [
    {
     "data": {
      "text/plain": [
       "'1'"
      ]
     },
     "execution_count": 7,
     "metadata": {},
     "output_type": "execute_result"
    }
   ],
   "source": [
    "ip_addr[0]"
   ]
  },
  {
   "cell_type": "code",
   "execution_count": 8,
   "metadata": {},
   "outputs": [
    {
     "data": {
      "text/plain": [
       "'9'"
      ]
     },
     "execution_count": 8,
     "metadata": {},
     "output_type": "execute_result"
    }
   ],
   "source": [
    "ip_addr[1]"
   ]
  },
  {
   "cell_type": "code",
   "execution_count": 9,
   "metadata": {},
   "outputs": [
    {
     "data": {
      "text/plain": [
       "'1'"
      ]
     },
     "execution_count": 9,
     "metadata": {},
     "output_type": "execute_result"
    }
   ],
   "source": [
    "ip_addr[-1]"
   ]
  },
  {
   "cell_type": "code",
   "execution_count": 10,
   "metadata": {},
   "outputs": [
    {
     "data": {
      "text/plain": [
       "11"
      ]
     },
     "execution_count": 10,
     "metadata": {},
     "output_type": "execute_result"
    }
   ],
   "source": [
    "len(ip_addr)"
   ]
  },
  {
   "cell_type": "code",
   "execution_count": 14,
   "metadata": {},
   "outputs": [
    {
     "data": {
      "text/plain": [
       "'hello something'"
      ]
     },
     "execution_count": 14,
     "metadata": {},
     "output_type": "execute_result"
    }
   ],
   "source": [
    "my_str='hello'\n",
    "my_str2 = my_str+' something'\n",
    "my_str2"
   ]
  },
  {
   "cell_type": "code",
   "execution_count": 15,
   "metadata": {},
   "outputs": [
    {
     "data": {
      "text/plain": [
       "'hello something 1'"
      ]
     },
     "execution_count": 15,
     "metadata": {},
     "output_type": "execute_result"
    }
   ],
   "source": [
    "my_str2 = my_str2+' 1'\n",
    "my_str2"
   ]
  },
  {
   "cell_type": "code",
   "execution_count": 16,
   "metadata": {},
   "outputs": [
    {
     "data": {
      "text/plain": [
       "'0b11111111'"
      ]
     },
     "execution_count": 16,
     "metadata": {},
     "output_type": "execute_result"
    }
   ],
   "source": [
    "bin(255)"
   ]
  },
  {
   "cell_type": "code",
   "execution_count": 17,
   "metadata": {},
   "outputs": [
    {
     "data": {
      "text/plain": [
       "'0xff'"
      ]
     },
     "execution_count": 17,
     "metadata": {},
     "output_type": "execute_result"
    }
   ],
   "source": [
    "hex(255)"
   ]
  },
  {
   "cell_type": "code",
   "execution_count": 18,
   "metadata": {},
   "outputs": [
    {
     "name": "stdout",
     "output_type": "stream",
     "text": [
      "0b11111111\n",
      "<class 'str'>\n"
     ]
    }
   ],
   "source": [
    "my_var = bin(255)\n",
    "print(my_var)\n",
    "print(type(my_var))"
   ]
  },
  {
   "cell_type": "code",
   "execution_count": 20,
   "metadata": {},
   "outputs": [
    {
     "data": {
      "text/plain": [
       "255"
      ]
     },
     "execution_count": 20,
     "metadata": {},
     "output_type": "execute_result"
    }
   ],
   "source": [
    "# specify the base of my_var is 2\n",
    "int(my_var, 2)"
   ]
  },
  {
   "cell_type": "code",
   "execution_count": 21,
   "metadata": {},
   "outputs": [
    {
     "name": "stdout",
     "output_type": "stream",
     "text": [
      "c:\\windows\n",
      "ewdir\test_this\\whatever\n"
     ]
    }
   ],
   "source": [
    "my_path='c:\\windows\\newdir\\test_this\\whatever'\n",
    "print(my_path)"
   ]
  },
  {
   "cell_type": "code",
   "execution_count": 22,
   "metadata": {},
   "outputs": [
    {
     "name": "stdout",
     "output_type": "stream",
     "text": [
      "c:\\windows\\newdir\\test_this\\whatever\n"
     ]
    }
   ],
   "source": [
    "# raw\n",
    "my_path=r'c:\\windows\\newdir\\test_this\\whatever'\n",
    "print(my_path)\n"
   ]
  },
  {
   "cell_type": "code",
   "execution_count": 23,
   "metadata": {},
   "outputs": [
    {
     "name": "stdout",
     "output_type": "stream",
     "text": [
      "whatever\n",
      "something else\n",
      "This is a string\n",
      "that spans\n",
      "multiple lines\n",
      "'This is a string\\nthat spans\\nmultiple lines'\n"
     ]
    }
   ],
   "source": [
    "# repr shows Python internal representation\n",
    "\n",
    "my_str1='whatever'\n",
    "my_str2=\"something else\"\n",
    "my_str3='''This is a string\n",
    "that spans\n",
    "multiple lines'''\n",
    "\n",
    "print(my_str1)\n",
    "print(my_str2)\n",
    "print(my_str3)\n",
    "\n",
    "print(repr(my_str3))\n"
   ]
  },
  {
   "cell_type": "code",
   "execution_count": 24,
   "metadata": {},
   "outputs": [
    {
     "name": "stdout",
     "output_type": "stream",
     "text": [
      "     whatever, somethings else\n",
      "\n",
      "\n",
      "\n"
     ]
    },
    {
     "data": {
      "text/plain": [
       "'whatever, somethings else'"
      ]
     },
     "execution_count": 24,
     "metadata": {},
     "output_type": "execute_result"
    }
   ],
   "source": [
    "my_str = '     whatever, somethings else\\n\\n\\n'\n",
    "print(my_str)\n",
    "my_str.strip()"
   ]
  },
  {
   "cell_type": "code",
   "execution_count": 25,
   "metadata": {},
   "outputs": [
    {
     "data": {
      "text/plain": [
       "'whatever, somethings else\\n\\n\\n'"
      ]
     },
     "execution_count": 25,
     "metadata": {},
     "output_type": "execute_result"
    }
   ],
   "source": [
    "my_str.lstrip()"
   ]
  },
  {
   "cell_type": "code",
   "execution_count": 27,
   "metadata": {},
   "outputs": [
    {
     "data": {
      "text/plain": [
       "'     whatever, somethings else'"
      ]
     },
     "execution_count": 27,
     "metadata": {},
     "output_type": "execute_result"
    }
   ],
   "source": [
    "my_str.rstrip()"
   ]
  },
  {
   "cell_type": "code",
   "execution_count": 28,
   "metadata": {},
   "outputs": [
    {
     "data": {
      "text/plain": [
       "['192', '168', '1', '1']"
      ]
     },
     "execution_count": 28,
     "metadata": {},
     "output_type": "execute_result"
    }
   ],
   "source": [
    "ip_addr='192.168.1.1'\n",
    "ip_addr.split('.')"
   ]
  },
  {
   "cell_type": "code",
   "execution_count": 29,
   "metadata": {},
   "outputs": [
    {
     "data": {
      "text/plain": [
       "['192.', '.1']"
      ]
     },
     "execution_count": 29,
     "metadata": {},
     "output_type": "execute_result"
    }
   ],
   "source": [
    "# splitting at the end behave as expected\n",
    "\n",
    "ip_addr.split(\"168.1\")"
   ]
  },
  {
   "cell_type": "code",
   "execution_count": 30,
   "metadata": {},
   "outputs": [
    {
     "data": {
      "text/plain": [
       "['', '.1.1']"
      ]
     },
     "execution_count": 30,
     "metadata": {},
     "output_type": "execute_result"
    }
   ],
   "source": [
    "# splitting at the beginning of the string will create a null string !!!\n",
    "\n",
    "ip_addr.split('192.168')"
   ]
  },
  {
   "cell_type": "code",
   "execution_count": 31,
   "metadata": {},
   "outputs": [
    {
     "data": {
      "text/plain": [
       "['This',\n",
       " 'is',\n",
       " 'some',\n",
       " 'sentence',\n",
       " 'with',\n",
       " 'a',\n",
       " 'bunch',\n",
       " 'of',\n",
       " 'words',\n",
       " 'in',\n",
       " 'it']"
      ]
     },
     "execution_count": 31,
     "metadata": {},
     "output_type": "execute_result"
    }
   ],
   "source": [
    "# automatically split base on white space\n",
    "\n",
    "sentence='This is some sentence with a bunch of words in it'\n",
    "sentence.split()"
   ]
  },
  {
   "cell_type": "code",
   "execution_count": 32,
   "metadata": {},
   "outputs": [
    {
     "data": {
      "text/plain": [
       "['This',\n",
       " 'is',\n",
       " 'a',\n",
       " 'paragraph',\n",
       " 'with',\n",
       " 'newlines',\n",
       " 'in',\n",
       " 'it',\n",
       " 'indicating',\n",
       " 'something',\n",
       " 'I',\n",
       " 'want',\n",
       " 'to',\n",
       " 'split',\n",
       " 'on',\n",
       " 'whatever.']"
      ]
     },
     "execution_count": 32,
     "metadata": {},
     "output_type": "execute_result"
    }
   ],
   "source": [
    "paragraph='''This is a paragraph\n",
    "with newlines in it\n",
    "indicating something I want to split on\n",
    "whatever.'''\n",
    "paragraph.split()"
   ]
  },
  {
   "cell_type": "code",
   "execution_count": 33,
   "metadata": {},
   "outputs": [
    {
     "data": {
      "text/plain": [
       "'This is a paragraph\\nwith newlines in it\\nindicating something I want to split on\\nwhatever.'"
      ]
     },
     "execution_count": 33,
     "metadata": {},
     "output_type": "execute_result"
    }
   ],
   "source": [
    "paragraph"
   ]
  },
  {
   "cell_type": "code",
   "execution_count": 34,
   "metadata": {},
   "outputs": [
    {
     "data": {
      "text/plain": [
       "['This is a paragraph',\n",
       " 'with newlines in it',\n",
       " 'indicating something I want to split on',\n",
       " 'whatever.']"
      ]
     },
     "execution_count": 34,
     "metadata": {},
     "output_type": "execute_result"
    }
   ],
   "source": [
    "paragraph.split('\\n')"
   ]
  },
  {
   "cell_type": "code",
   "execution_count": 35,
   "metadata": {},
   "outputs": [
    {
     "data": {
      "text/plain": [
       "['This is a paragraph',\n",
       " 'with newlines in it',\n",
       " 'indicating something I want to split on',\n",
       " 'whatever.']"
      ]
     },
     "execution_count": 35,
     "metadata": {},
     "output_type": "execute_result"
    }
   ],
   "source": [
    "paragraph.splitlines()"
   ]
  },
  {
   "cell_type": "markdown",
   "metadata": {},
   "source": [
    "## String Formatting"
   ]
  },
  {
   "cell_type": "code",
   "execution_count": 41,
   "metadata": {},
   "outputs": [
    {
     "name": "stdout",
     "output_type": "stream",
     "text": [
      "\n",
      "\n",
      "----------------------------------------------------------------------\n",
      "172.16.1.1172.31.17.99217.88.17.1\n",
      "\n",
      "\n",
      "172.16.1.1 172.31.17.99 217.88.17.1\n"
     ]
    }
   ],
   "source": [
    "ip_addr1='172.16.1.1'\n",
    "ip_addr2='172.31.17.99'\n",
    "ip_addr3='217.88.17.1'\n",
    "\n",
    "print('\\n')\n",
    "print(\"-\"*70)\n",
    "print(\"{}{}{}\".format(ip_addr1,ip_addr2,ip_addr3))\n",
    "print('\\n')\n",
    "      \n",
    "print(ip_addr1, ip_addr2, ip_addr3)"
   ]
  },
  {
   "cell_type": "code",
   "execution_count": 42,
   "metadata": {},
   "outputs": [
    {
     "name": "stdout",
     "output_type": "stream",
     "text": [
      "172.16.1.1          172.31.17.99        217.88.17.1         \n"
     ]
    }
   ],
   "source": [
    "# columns of width 20 left aligned\n",
    "\n",
    "print(\"{:20}{:20}{:20}\".format(ip_addr1,ip_addr2,ip_addr3))"
   ]
  },
  {
   "cell_type": "code",
   "execution_count": 43,
   "metadata": {},
   "outputs": [
    {
     "name": "stdout",
     "output_type": "stream",
     "text": [
      "172.16.1.1          172.31.17.99        217.88.17.1         \n"
     ]
    }
   ],
   "source": [
    "# columns of width 20 left aligned\n",
    "# same as default (or above)\n",
    "\n",
    "print(\"{:<20}{:<20}{:<20}\".format(ip_addr1,ip_addr2,ip_addr3))"
   ]
  },
  {
   "cell_type": "code",
   "execution_count": 44,
   "metadata": {},
   "outputs": [
    {
     "name": "stdout",
     "output_type": "stream",
     "text": [
      "          172.16.1.1        172.31.17.99         217.88.17.1\n"
     ]
    }
   ],
   "source": [
    "# columns of width 20 right aligned\n",
    "\n",
    "print(\"{:>20}{:>20}{:>20)\".format(ip_addr1,ip_addr2,ip_addr3))"
   ]
  },
  {
   "cell_type": "code",
   "execution_count": 45,
   "metadata": {},
   "outputs": [
    {
     "name": "stdout",
     "output_type": "stream",
     "text": [
      "     172.16.1.1         172.31.17.99        217.88.17.1     \n"
     ]
    }
   ],
   "source": [
    "# columns of width 20 center aligned\n",
    "\n",
    "print(\"{:^20}{:^20}{:^20}\".format(ip_addr1,ip_addr2,ip_addr3))"
   ]
  },
  {
   "cell_type": "code",
   "execution_count": 47,
   "metadata": {},
   "outputs": [
    {
     "name": "stdout",
     "output_type": "stream",
     "text": [
      "    172.31.17.99        217.88.17.1          172.16.1.1     \n"
     ]
    }
   ],
   "source": [
    "# passing in name arguments for the formatting {}\n",
    "# instead of positional arguments (default)\n",
    "\n",
    "print(\"{ip1:^20}{ip2:^20}{ip3:^20}\".format(ip3=ip_addr1,ip1=ip_addr2,ip2=ip_addr3))"
   ]
  },
  {
   "cell_type": "code",
   "execution_count": 1,
   "metadata": {},
   "outputs": [
    {
     "name": "stdout",
     "output_type": "stream",
     "text": [
      "\n",
      "\n",
      "------------------------------------------------------------\n",
      "192       168       1         1         \n",
      "------------------------------------------------------------\n",
      "\n",
      "\n"
     ]
    }
   ],
   "source": [
    "ip_addr='192.168.1.1'\n",
    "octets=ip_addr.split('.')\n",
    "\n",
    "print('\\n')\n",
    "print('-'*60)\n",
    "print(\"{:10}{:10}{:10}{:10}\".format(octets[0],octets[1],octets[2],octets[3]))\n",
    "print(\"-\"*60)\n",
    "print(\"\\n\")"
   ]
  },
  {
   "cell_type": "code",
   "execution_count": 2,
   "metadata": {},
   "outputs": [
    {
     "data": {
      "text/plain": [
       "['192', '168', '1', '1']"
      ]
     },
     "execution_count": 2,
     "metadata": {},
     "output_type": "execute_result"
    }
   ],
   "source": [
    "# octets is a list\n",
    "octets"
   ]
  },
  {
   "cell_type": "code",
   "execution_count": 3,
   "metadata": {},
   "outputs": [
    {
     "name": "stdout",
     "output_type": "stream",
     "text": [
      "\n",
      "\n",
      "------------------------------------------------------------\n",
      "192       168       1         1         \n",
      "------------------------------------------------------------\n",
      "\n",
      "\n"
     ]
    }
   ],
   "source": [
    "ip_addr='192.168.1.1'\n",
    "octets=ip_addr.split('.')\n",
    "\n",
    "print('\\n')\n",
    "print('-'*60)\n",
    "# use *octets and treat octets as a sequence of elements instead of a list\n",
    "print(\"{:10}{:10}{:10}{:10}\".format(*octets))\n",
    "print(\"-\"*60)\n",
    "print(\"\\n\")"
   ]
  },
  {
   "cell_type": "code",
   "execution_count": 4,
   "metadata": {},
   "outputs": [
    {
     "name": "stdout",
     "output_type": "stream",
     "text": [
      "192.168.1.1 192.168.2.1\n"
     ]
    }
   ],
   "source": [
    "ip_addr1='192.168.1.1'\n",
    "ip_addr2='192.168.2.1'\n",
    "\n",
    "# .format is the new method\n",
    "# old way of doing the same thing as .format method\n",
    "print(\"%s %s\" % (ip_addr1, ip_addr2))\n",
    "\n"
   ]
  },
  {
   "cell_type": "code",
   "execution_count": 6,
   "metadata": {},
   "outputs": [
    {
     "name": "stdout",
     "output_type": "stream",
     "text": [
      "192.168.1.1\n",
      "My IP address is:     192.168.1.1         80   \n",
      "My IP address is:     192.168.2.1        443   \n"
     ]
    }
   ],
   "source": [
    "ip_addr1='192.168.1.1'\n",
    "port1=80\n",
    "ip_addr2='192.168.2.1'\n",
    "port2=443\n",
    "\n",
    "# New feature introduced in Pythong 3.6 and later\n",
    "# use f before the {}\n",
    "print(f\"{ip_addr1}\")\n",
    "print(f\"My IP address is: {ip_addr1:^20} {port1:^8}\")\n",
    "print(f\"My IP address is: {ip_addr2:^20} {port2:^8}\")"
   ]
  },
  {
   "cell_type": "code",
   "execution_count": null,
   "metadata": {},
   "outputs": [],
   "source": []
  },
  {
   "cell_type": "code",
   "execution_count": null,
   "metadata": {},
   "outputs": [],
   "source": []
  },
  {
   "cell_type": "code",
   "execution_count": null,
   "metadata": {},
   "outputs": [],
   "source": []
  }
 ],
 "metadata": {
  "kernelspec": {
   "display_name": "Python 3",
   "language": "python",
   "name": "python3"
  },
  "language_info": {
   "codemirror_mode": {
    "name": "ipython",
    "version": 3
   },
   "file_extension": ".py",
   "mimetype": "text/x-python",
   "name": "python",
   "nbconvert_exporter": "python",
   "pygments_lexer": "ipython3",
   "version": "3.7.4"
  }
 },
 "nbformat": 4,
 "nbformat_minor": 2
}
