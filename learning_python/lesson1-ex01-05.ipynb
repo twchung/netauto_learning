{
 "cells": [
  {
   "cell_type": "code",
   "execution_count": null,
   "metadata": {},
   "outputs": [],
   "source": [
    "1. Create a Python script that has three variables: ip_addr1, ip_addr2, ip_addr3 (representing three\n",
    "corresponding IP addresses). Print these three variables to standard output using a single print statement.\\\n",
    " \n",
    "    Make your print statement compatible with both Python2 and Python3.\\\n",
    " \n",
    "    If you are using either Linux or MacOS make your program executable by adding a shebang line and by changing the files permissions (i.e. chmod 755 exercise1.py).\n"
   ]
  },
  {
   "cell_type": "code",
   "execution_count": 5,
   "metadata": {},
   "outputs": [
    {
     "name": "stdout",
     "output_type": "stream",
     "text": [
      "1.1.1.1 1.1.1.2 1.1.1.3\n"
     ]
    }
   ],
   "source": [
    "#!/usr/bin/env python \n",
    "#from _future_ import print_function\n",
    "ip_addr1='1.1.1.1'\n",
    "ip_addr2='1.1.1.2'\n",
    "ip_addr3='1.1.1.3'\n",
    "print(ip_addr1, ip_addr2, ip_addr3)"
   ]
  },
  {
   "cell_type": "code",
   "execution_count": null,
   "metadata": {},
   "outputs": [],
   "source": [
    "2. Prompt a user to enter in an IP address from standard input. Read the IP address in and\n",
    "break it up into its octets. Print out the octets in decimal, binary, and hex.\n",
    "\n",
    " Your program output should look like the following:\n",
    "\n",
    " $ python exercise2.py \n",
    " Please enter an IP address: 80.98.100.240\n",
    "\n",
    "    Octet1         Octet2         Octet3         Octet4     \n",
    " ------------------------------------------------------------\n",
    "      80             98             100            240      \n",
    "   0b1010000      0b1100010      0b1100100     0b11110000   \n",
    "     0x50           0x62           0x64           0xf0      \n",
    " ------------------------------------------------------------\n",
    "\n",
    " Four columns, fifteen characters wide, a header column, data centered in the column.\n",
    "    "
   ]
  },
  {
   "cell_type": "code",
   "execution_count": 22,
   "metadata": {},
   "outputs": [
    {
     "name": "stdout",
     "output_type": "stream",
     "text": [
      "Enter an IP address:  80.98.100.240\n",
      "    Octet1         Octet2         Octet3         Octet4     \n",
      "------------------------------------------------------------\n",
      "       80            98             100            240      \n",
      "   0b1010000      0b1100010      0b1100100     0b11110000   \n",
      "     0x50           0x62           0x64           0xf0      \n",
      "------------------------------------------------------------\n"
     ]
    }
   ],
   "source": [
    "ip_addr=input('Please enter an IP address: ')\n",
    "octets=ip_addr.split('.')\n",
    "\n",
    "print(\"{:^15}{:^15}{:^15}{:^15}\".format('Octet1','Octet2','Octet3','Octet4'))\n",
    "print('-'*60)\n",
    "print(\"{:^15}{:^15}{:^15}{:^15}\".format(*octets))\n",
    "print(\"{:^15}{:^15}{:^15}{:^15}\".format(bin(int(octets[0])),bin(int(octets[1])),bin(int(octets[2])),bin(int(octets[3]))))\n",
    "print(\"{:^15}{:^15}{:^15}{:^15}\".format(hex(int(octets[0])),hex(int(octets[1])),hex(int(octets[2])),hex(int(octets[3]))))\n",
    "print('-'*60)\n"
   ]
  },
  {
   "cell_type": "code",
   "execution_count": null,
   "metadata": {},
   "outputs": [],
   "source": [
    "3.   Create three different variables the first variable should use all lower case characters\n",
    "with underscore ( _ ) as the word separator. The second variable should use all upper case \n",
    "characters with underscore as the word separator. The third variable should use numbers, letters, \n",
    "and underscore, but still be a valid variable Python variable name.\n",
    "\n",
    "Make all three variables be strings that refer to IPv6 addresses.\n",
    "\n",
    "Use the from future technique so that any string literals in Python2 are unicode.\n",
    "\n",
    "compare if variable1 equals variable2\n",
    "compare if variable1 is not equal to variable3\n"
   ]
  },
  {
   "cell_type": "code",
   "execution_count": 23,
   "metadata": {},
   "outputs": [
    {
     "name": "stdout",
     "output_type": "stream",
     "text": [
      "Is variable equal to variable2: False\n",
      "Is variable1 not equal to variable3: True\n"
     ]
    }
   ],
   "source": [
    "ipv6_addr1='2001:db8:1234::1'\n",
    "IPV6_ADDR2=\"2001:db8:1234::2\"\n",
    "ipv6_addr3='2001:db8:1234::3'\n",
    "\n",
    "print(\"Is variable equal to variable2: {}\".format(ipv6_addr1 == IPV6_ADDR2))\n",
    "print(\"Is variable1 not equal to variable3: {}\".format(ipv6_addr1 != ipv6_addr3))\n"
   ]
  },
  {
   "cell_type": "code",
   "execution_count": null,
   "metadata": {},
   "outputs": [],
   "source": [
    "4. Create a show_version variable that contains the following\n",
    "\n",
    " show_version = \"*0        CISCO881-SEC-K9       FTX0000038X    \" \n",
    "\n",
    "Remove all leading and trailing whitespace from the string.\n",
    "Split the string and extract the model and serial_number from it.\n",
    "Check if 'Cisco' is contained in the model string (ignore capitalization).\n",
    "Check if '881' is in the model string.\n",
    "Print out both the serial number and the model.\n"
   ]
  },
  {
   "cell_type": "code",
   "execution_count": 31,
   "metadata": {},
   "outputs": [
    {
     "name": "stdout",
     "output_type": "stream",
     "text": [
      "*0        CISCO881-SEC-K9       FTX0000038X\n"
     ]
    }
   ],
   "source": [
    "show_version = \"*0        CISCO881-SEC-K9       FTX0000038X    \"\n",
    "s1 = show_version.strip()\n",
    "print(s1)"
   ]
  },
  {
   "cell_type": "code",
   "execution_count": 32,
   "metadata": {},
   "outputs": [
    {
     "name": "stdout",
     "output_type": "stream",
     "text": [
      "Model is: CISCO881-SEC-K9\n",
      "Serial number is: FTX0000038X\n"
     ]
    }
   ],
   "source": [
    "s2 = s1.split()\n",
    "print(\"Model is: {}\".format(s2[1]))\n",
    "print(\"Serial number is: {}\".format(s2[2]))"
   ]
  },
  {
   "cell_type": "code",
   "execution_count": 33,
   "metadata": {},
   "outputs": [
    {
     "name": "stdout",
     "output_type": "stream",
     "text": [
      "Cisco is contained in model string: True\n"
     ]
    }
   ],
   "source": [
    "print(\"Cisco is contained in model string: {}\".format('cisco' in s1.lower()))\n"
   ]
  },
  {
   "cell_type": "code",
   "execution_count": 34,
   "metadata": {},
   "outputs": [
    {
     "name": "stdout",
     "output_type": "stream",
     "text": [
      "881 is contained in model string: True\n"
     ]
    }
   ],
   "source": [
    "print(\"881 is contained in model string: {}\".format('881' in s1))"
   ]
  },
  {
   "cell_type": "code",
   "execution_count": null,
   "metadata": {},
   "outputs": [],
   "source": [
    "5. You have the following three variables from the arp table of a router:\n",
    "\n",
    "mac1 = \"Internet  10.220.88.29           94   5254.abbe.5b7b  ARPA   FastEthernet4\"\n",
    "mac2 = \"Internet  10.220.88.30            3   5254.ab71.e119  ARPA   FastEthernet4\"\n",
    "mac3 = \"Internet  10.220.88.32          231   5254.abc7.26aa  ARPA   FastEthernet4\"\n",
    "\n",
    "Process these ARP entries and print out a table of \"IP ADDR\" to \"MAC ADDRESS\" mappings. The output should look like following:\n",
    "\n",
    "             IP ADDR          MAC ADDRESS\n",
    "-------------------- --------------------\n",
    "        10.220.88.29       5254.abbe.5b7b\n",
    "        10.220.88.30       5254.ab71.e119\n",
    "        10.220.88.32       5254.abc7.26aa\n",
    "\n",
    "Two columns, 20 characters wide, data right aligned, a header column.\n"
   ]
  },
  {
   "cell_type": "code",
   "execution_count": 38,
   "metadata": {},
   "outputs": [],
   "source": [
    "mac1 = \"Internet  10.220.88.29           94   5254.abbe.5b7b  ARPA   FastEthernet4\"\n",
    "mac2 = \"Internet  10.220.88.30            3   5254.ab71.e119  ARPA   FastEthernet4\"\n",
    "mac3 = \"Internet  10.220.88.32          231   5254.abc7.26aa  ARPA   FastEthernet4\"\n"
   ]
  },
  {
   "cell_type": "code",
   "execution_count": 40,
   "metadata": {},
   "outputs": [
    {
     "name": "stdout",
     "output_type": "stream",
     "text": [
      "             IP ADDR          MAC ADDRESS\n",
      "-------------------- --------------------\n",
      "        10.220.88.29       5254.abbe.5b7b\n",
      "        10.220.88.30       5254.ab71.e119\n",
      "        10.220.88.32       5254.abc7.26aa\n"
     ]
    }
   ],
   "source": [
    "mac1data=mac1.split()\n",
    "mac2data=mac2.split()\n",
    "mac3data=mac3.split()\n",
    "\n",
    "print(\"{:>20} {:>20}\".format(\"IP ADDR\",\"MAC ADDRESS\"))\n",
    "print(\"-\"*20+' '+\"-\"*20)\n",
    "print(\"{:>20} {:>20}\".format(mac1data[1],mac1data[3]))\n",
    "print(\"{:>20} {:>20}\".format(mac2data[1],mac2data[3]))\n",
    "print(\"{:>20} {:>20}\".format(mac3data[1],mac3data[3]))\n"
   ]
  },
  {
   "cell_type": "code",
   "execution_count": null,
   "metadata": {},
   "outputs": [],
   "source": []
  }
 ],
 "metadata": {
  "kernelspec": {
   "display_name": "Python 3",
   "language": "python",
   "name": "python3"
  },
  "language_info": {
   "codemirror_mode": {
    "name": "ipython",
    "version": 3
   },
   "file_extension": ".py",
   "mimetype": "text/x-python",
   "name": "python",
   "nbconvert_exporter": "python",
   "pygments_lexer": "ipython3",
   "version": "3.7.4"
  }
 },
 "nbformat": 4,
 "nbformat_minor": 2
}
